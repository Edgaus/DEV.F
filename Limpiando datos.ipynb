{
 "cells": [
  {
   "cell_type": "code",
   "execution_count": null,
   "metadata": {},
   "outputs": [],
   "source": [
    "from math import nan\n",
    "import pandas as pd\n",
    "import matplotlib.pyplot as plt\n",
    "import numpy as np\n",
    "#Linea pra onbtener on una lista con los nombres de los estados de Mexico\n",
    "estados= pd.read_csv('Violencia en Mexico/Datos completos/2015/2015_datos_violencia_delictiva.csv')['Entidad'].unique()\n",
    "\n",
    "#Diccionario que va contener informacion:  'Estado':'Poblacion de mujeres totsl'\n",
    "poblacion_muj_estados={}\n",
    "#Diccionario datos por interpolar\n",
    "\n",
    "datos_por_inter =pd.DataFrame([nan,nan,nan,nan,], columns=['TOT_MUJ'], index=['2016', '2017','2018','2019']).rename_axis(\"Año\", axis='rows')\n",
    "\n",
    "\n",
    "for i, estado in enumerate( estados):\n",
    "    \n",
    "    #Limpieza de datos\n",
    "    \n",
    "    df=pd.read_csv(f'AHL\\AHL{i+1}Habitantes.csv').rename(columns={'EVE_CENSAL':'Año'})\n",
    "    df = df.replace(',','', regex=True)\n",
    "    df = df.replace('*',nan)\n",
    "    df = df.replace('-',nan)\n",
    "    df = df.fillna(0)\n",
    "    df['TOT_MUJ']=df['TOT_MUJ'].astype('int64',copy=False)\n",
    "\n",
    "    #Llenando diccionario con la poblacion de mujeres desde 1980\n",
    "    poblacion_muj_estados[estado]=pd.DataFrame(df.groupby('Año').agg(sum).iloc[8:,2:])\n",
    "    \n",
    "    #Agregando fechas 2016-2017-2018-2019\n",
    "    poblacion_muj_estados[estado]=poblacion_muj_estados[estado].iloc[:5,0:].append([datos_por_inter,poblacion_muj_estados[estado].iloc[6:,:]])\n",
    "\n",
    "    #Interpolando años faltantes\n",
    "    poblacion_muj_estados[estado]['TOT_MUJ']=poblacion_muj_estados[estado]['TOT_MUJ'].interpolate()\n"
   ]
  }
 ],
 "metadata": {
  "language_info": {
   "name": "python"
  },
  "orig_nbformat": 4
 },
 "nbformat": 4,
 "nbformat_minor": 2
}
